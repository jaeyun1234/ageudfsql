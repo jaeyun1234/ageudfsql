{
 "cells": [
  {
   "cell_type": "code",
   "execution_count": null,
   "id": "01932f36-d88f-4b83-952b-9fcd0680846b",
   "metadata": {},
   "outputs": [],
   "source": [
    "# [+] SparkSession 설정\n",
    "from pyspark.sql import SparkSession\n",
    "spark = SparkSession.builder.master('local').appName('udf').getOrCreate()"
   ]
  },
  {
   "cell_type": "code",
   "execution_count": null,
   "id": "26f776f5-5413-4e3d-88a1-5e0a327ddd05",
   "metadata": {},
   "outputs": [],
   "source": [
    "# 샘플 데이터: 이름 및 나이\n",
    "data = [\n",
    "    ('안현', 39),\n",
    "    ('김영지', 22),\n",
    "    ('이승희', 55),\n",
    "    ('박지연', 33),\n",
    "    ('정미원', 21),\n",
    "    ('최민수', 39),\n",
    "    ('홍수아', 47),\n",
    "    ('송진우', 21),\n",
    "    ('이현지', 58),\n",
    "    ('김민수', 36)\n",
    "]"
   ]
  },
  {
   "cell_type": "code",
   "execution_count": null,
   "id": "6937faf8-8548-4300-a382-0eb20ccb0c75",
   "metadata": {},
   "outputs": [],
   "source": [
    "# [+] 스키마 정의\n",
    "schema = ['name', 'age']"
   ]
  },
  {
   "cell_type": "code",
   "execution_count": null,
   "id": "b0504454-da5a-41c1-8781-a10d4a9cfc28",
   "metadata": {},
   "outputs": [],
   "source": [
    "# [+] 데이터프레임 생성\n",
    "df = spark.createDataFrame(data=data, schema=schema)"
   ]
  },
  {
   "cell_type": "code",
   "execution_count": null,
   "id": "4c1b69bc-55c2-4bc4-8150-e8fbafcb3cda",
   "metadata": {},
   "outputs": [],
   "source": [
    "# [+] 데이터프레임 출력\n",
    "df.show()"
   ]
  },
  {
   "cell_type": "code",
   "execution_count": null,
   "id": "7c2e084c-a7ee-4abe-925f-baa8ef2189e5",
   "metadata": {},
   "outputs": [],
   "source": [
    "# [+] Temporary View 생성\n",
    "df.createOrReplaceTempView('people')"
   ]
  },
  {
   "cell_type": "code",
   "execution_count": null,
   "id": "c0729a33-5500-4840-b966-cdb91d71b3f0",
   "metadata": {},
   "outputs": [],
   "source": [
    "# [+] UDF: 나이에 따른 카테고리 구분 함수\n",
    "def age_category(age):\n",
    "    if age < 35:\n",
    "        return 'young'\n",
    "    elif 35 <= age < 60:\n",
    "        return 'adult'\n",
    "    else:\n",
    "        return 'senior'"
   ]
  },
  {
   "cell_type": "code",
   "execution_count": null,
   "id": "59d63dae-5b26-4cde-ae35-728cdb05fcd4",
   "metadata": {},
   "outputs": [],
   "source": [
    "# [+] UDF 등록\n",
    "spark.udf.register('age_category', age_category)\n"
   ]
  },
  {
   "cell_type": "code",
   "execution_count": null,
   "id": "08d40de4-9b0f-4485-84c3-3cfab5d0d127",
   "metadata": {},
   "outputs": [],
   "source": [
    "# [+] SQL문 처리\n",
    "spark.sql(\"SELECT name, age_category(age) AS category FROM people\").show()"
   ]
  },
  {
   "cell_type": "code",
   "execution_count": null,
   "id": "a54a87f5-dac7-42c0-8329-f38f83068974",
   "metadata": {},
   "outputs": [],
   "source": []
  }
 ],
 "metadata": {
  "kernelspec": {
   "display_name": "Python 3 (ipykernel)",
   "language": "python",
   "name": "python3"
  },
  "language_info": {
   "codemirror_mode": {
    "name": "ipython",
    "version": 3
   },
   "file_extension": ".py",
   "mimetype": "text/x-python",
   "name": "python",
   "nbconvert_exporter": "python",
   "pygments_lexer": "ipython3",
   "version": "3.10.9"
  }
 },
 "nbformat": 4,
 "nbformat_minor": 5
}
